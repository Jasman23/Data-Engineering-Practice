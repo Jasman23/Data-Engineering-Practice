{
  "cells": [
    {
      "cell_type": "markdown",
      "metadata": {
        "id": "view-in-github",
        "colab_type": "text"
      },
      "source": [
        "<a href=\"https://colab.research.google.com/github/Jasman23/Data-Engineering-Practice/blob/main/Assignment_1.ipynb\" target=\"_parent\"><img src=\"https://colab.research.google.com/assets/colab-badge.svg\" alt=\"Open In Colab\"/></a>"
      ]
    },
    {
      "cell_type": "markdown",
      "metadata": {
        "id": "hFStAWgwE4XS"
      },
      "source": [
        "# GBA 6070 - Programming Foundation for Business Analytics\n",
        "# Dr. Mohammad Salehan\n",
        "# Assignment 1: Variables and Expressions"
      ]
    },
    {
      "cell_type": "markdown",
      "metadata": {
        "id": "UbPcVQ2uE4XV"
      },
      "source": [
        "1. In a print statement, what happens if you leave out one of the parentheses, or both?"
      ]
    },
    {
      "cell_type": "code",
      "execution_count": null,
      "metadata": {
        "id": "W-rxNtfEE4XV"
      },
      "outputs": [],
      "source": []
    },
    {
      "cell_type": "markdown",
      "metadata": {
        "id": "uuJnysVFE4XW"
      },
      "source": [
        "2. If you are trying to print a string, what happens if you leave out one of the quotation marks,\n",
        "or both?"
      ]
    },
    {
      "cell_type": "code",
      "execution_count": null,
      "metadata": {
        "id": "Ginf14TjE4XW"
      },
      "outputs": [],
      "source": []
    },
    {
      "cell_type": "markdown",
      "metadata": {
        "id": "8mXp88ZoE4XW"
      },
      "source": [
        "3. You can use a minus sign to make a negative number like -2. What happens if you put a plus\n",
        "sign before a number? What about 2++2?"
      ]
    },
    {
      "cell_type": "code",
      "execution_count": null,
      "metadata": {
        "id": "UH2FlSsnE4XX"
      },
      "outputs": [],
      "source": []
    },
    {
      "cell_type": "markdown",
      "metadata": {
        "id": "chYUtMCoE4XX"
      },
      "source": [
        "4. In math notation, leading zeros are ok, as in 09. What happens if you try this in Python?\n",
        "What about 011?"
      ]
    },
    {
      "cell_type": "code",
      "execution_count": null,
      "metadata": {
        "id": "ycQ1lyRjE4XX"
      },
      "outputs": [],
      "source": []
    },
    {
      "cell_type": "markdown",
      "metadata": {
        "id": "vuXCcoV8E4XX"
      },
      "source": [
        "5. What happens if you have two values with no operator between them?"
      ]
    },
    {
      "cell_type": "code",
      "execution_count": null,
      "metadata": {
        "id": "aNyI5b9gE4XY"
      },
      "outputs": [],
      "source": []
    },
    {
      "cell_type": "markdown",
      "metadata": {
        "id": "G8aSrPHtE4XY"
      },
      "source": [
        "6. How many seconds are there in 42 minutes 42 seconds?"
      ]
    },
    {
      "cell_type": "code",
      "execution_count": null,
      "metadata": {
        "id": "t7mm6MrzE4XY"
      },
      "outputs": [],
      "source": []
    },
    {
      "cell_type": "markdown",
      "metadata": {
        "id": "kwKdQClvE4XY"
      },
      "source": [
        "7. How many miles are there in 10 kilometers? Hint: there are 1.61 kilometers in a mile."
      ]
    },
    {
      "cell_type": "code",
      "execution_count": null,
      "metadata": {
        "id": "GKwdX3SUE4XY"
      },
      "outputs": [],
      "source": []
    },
    {
      "cell_type": "markdown",
      "metadata": {
        "id": "P9sBAhXIE4XY"
      },
      "source": [
        "8. If you run a 10 kilometer race in 42 minutes 42 seconds\n",
        "* What is your average pace (time per\n",
        "mile in minutes and seconds)?\n",
        "* What is your average speed in miles per hour?"
      ]
    },
    {
      "cell_type": "code",
      "execution_count": null,
      "metadata": {
        "id": "XP64ThPDE4XZ"
      },
      "outputs": [],
      "source": []
    },
    {
      "cell_type": "markdown",
      "metadata": {
        "id": "ONoFD-46E4XZ"
      },
      "source": [
        "9. We’ve seen that n = 42 is legal. What about 42 = n?"
      ]
    },
    {
      "cell_type": "code",
      "execution_count": null,
      "metadata": {
        "id": "yUe3pgbzE4XZ"
      },
      "outputs": [],
      "source": []
    },
    {
      "cell_type": "markdown",
      "metadata": {
        "id": "CMa0ra6pE4XZ"
      },
      "source": [
        "10. How about x = y = 1?"
      ]
    },
    {
      "cell_type": "code",
      "execution_count": null,
      "metadata": {
        "id": "KDwonqaAE4XZ"
      },
      "outputs": [],
      "source": []
    },
    {
      "cell_type": "markdown",
      "metadata": {
        "id": "bfCzYKxVE4XZ"
      },
      "source": [
        "11. In math notation you can multiply x and y like this: xy. What happens if you try that in\n",
        "Python?"
      ]
    },
    {
      "cell_type": "code",
      "execution_count": null,
      "metadata": {
        "id": "ddR_8yvvE4XZ"
      },
      "outputs": [],
      "source": []
    },
    {
      "cell_type": "markdown",
      "metadata": {
        "id": "RAWc-ppjE4XZ"
      },
      "source": [
        "12. The volume of a sphere with radius r is 4/3pr<sup>3</sup>. What is the volume of a sphere with radius 5? solve by defining r as a variable and set it to 5, then calculate volume using a formula that uses r."
      ]
    },
    {
      "cell_type": "code",
      "execution_count": null,
      "metadata": {
        "id": "YvGbs58_E4Xa"
      },
      "outputs": [],
      "source": []
    },
    {
      "cell_type": "markdown",
      "metadata": {
        "id": "oaKIlafgE4Xa"
      },
      "source": [
        "13. Suppose the cover price of a book is \\\\$24.95, but bookstores get a 40% discount. Shipping costs\n",
        "$3 for the first copy and 75 cents for each additional copy. What is the total wholesale cost for\n",
        "60 copies?"
      ]
    },
    {
      "cell_type": "code",
      "execution_count": null,
      "metadata": {
        "id": "8l8c0VSWE4Xa"
      },
      "outputs": [],
      "source": []
    },
    {
      "cell_type": "markdown",
      "metadata": {
        "id": "-pGUfjEyE4Xa"
      },
      "source": [
        "14. If I leave my house at 6:52 am and run 1 mile at an easy pace (8:15 per mile), then 3 miles at\n",
        "tempo (7:12 per mile) and 1 mile at easy pace again, what time do I get home for breakfast?"
      ]
    },
    {
      "cell_type": "code",
      "execution_count": null,
      "metadata": {
        "id": "pTDlWyG5E4Xa"
      },
      "outputs": [],
      "source": []
    }
  ],
  "metadata": {
    "kernelspec": {
      "display_name": "Python 3 (ipykernel)",
      "language": "python",
      "name": "python3"
    },
    "language_info": {
      "codemirror_mode": {
        "name": "ipython",
        "version": 3
      },
      "file_extension": ".py",
      "mimetype": "text/x-python",
      "name": "python",
      "nbconvert_exporter": "python",
      "pygments_lexer": "ipython3",
      "version": "3.9.7"
    },
    "colab": {
      "provenance": [],
      "include_colab_link": true
    }
  },
  "nbformat": 4,
  "nbformat_minor": 0
}