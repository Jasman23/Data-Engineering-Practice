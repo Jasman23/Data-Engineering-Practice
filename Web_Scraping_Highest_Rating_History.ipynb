{
 "cells": [
  {
   "cell_type": "code",
   "execution_count": 1,
   "id": "c3d2552b",
   "metadata": {},
   "outputs": [],
   "source": [
    "from bs4 import BeautifulSoup\n",
    "import requests\n",
    "import pandas as pd"
   ]
  },
  {
   "cell_type": "code",
   "execution_count": 33,
   "id": "c99cbeda",
   "metadata": {},
   "outputs": [
    {
     "name": "stdout",
     "output_type": "stream",
     "text": [
      "Requirement already satisfied: openpyxl in /Users/jasmanbhullar/opt/anaconda3/lib/python3.9/site-packages (3.0.10)\n",
      "Requirement already satisfied: et_xmlfile in /Users/jasmanbhullar/opt/anaconda3/lib/python3.9/site-packages (from openpyxl) (1.1.0)\n",
      "Note: you may need to restart the kernel to use updated packages.\n"
     ]
    }
   ],
   "source": [
    "pip install openpyxl"
   ]
  },
  {
   "cell_type": "code",
   "execution_count": 4,
   "id": "7a0317e1",
   "metadata": {},
   "outputs": [],
   "source": [
    "url = \"https://en.wikipedia.org/wiki/ICC_Men%27s_ODI_Team_Rankings\"\n",
    "html_data = requests.get(url).text"
   ]
  },
  {
   "cell_type": "code",
   "execution_count": 6,
   "id": "5063022b",
   "metadata": {},
   "outputs": [],
   "source": [
    "soup= BeautifulSoup(html_data,\"html.parser\")"
   ]
  },
  {
   "cell_type": "code",
   "execution_count": 47,
   "id": "fdd32eb2",
   "metadata": {},
   "outputs": [
    {
     "name": "stdout",
     "output_type": "stream",
     "text": [
      "Error converting rating for  Australia: \n",
      "            Team          Start            End  Total Months  Highest Rating\n",
      "0      Australia   October 2002   January 2007          52.0             140\n",
      "1   South Africa  February 2007  February 2007           1.0             128\n",
      "2      Australia     March 2007  February 2008          12.0             130\n",
      "3   South Africa     March 2008       May 2008           3.0             127\n",
      "4      Australia      June 2008  December 2008           7.0             131\n"
     ]
    }
   ],
   "source": [
    "def clean_and_extract_numeric(text):\n",
    "    cleaned_text = text.replace('½', '0.5')  # Replace '½' with '0.5'\n",
    "    numeric_part = ''.join(filter(str.isdigit, cleaned_text))  # Extract digits\n",
    "    return numeric_part\n",
    "data_list = []\n",
    "\n",
    "for row in soup.find_all('tbody')[2].find_all('tr'):\n",
    "    col = row.find_all('td')\n",
    "    if col:\n",
    "        Team = col[0].text\n",
    "        Start = col[1].text\n",
    "        End = col[2].text\n",
    "        Total_Months = (col[3].text)\n",
    "        try:\n",
    "            Total_Months = float(clean_and_extract_numeric(Total_Months))\n",
    "        except ValueError:\n",
    "            print(f\"Error converting rating for {Team}: {Total_Months}\")\n",
    "            Total_Months = None\n",
    "            \n",
    "        Highest_Rating = (col[5].text)\n",
    "        try:\n",
    "            Highest_Rating = int(Highest_Rating)\n",
    "        except:\n",
    "            Highest_Rating = Highest_Rating\n",
    "            \n",
    "        data_list.append({\"Team\": Team, \"Start\": Start, \"End\": End, \"Total Months\" : Total_Months, \"Highest Rating\" : Highest_Rating})\n",
    "\n",
    "# Convert the list of dictionaries to a DataFrame\n",
    "data = pd.DataFrame(data_list)\n",
    "# data['Highest Rating'] = data['Highest Rating'].str.replace('\\n','')\n",
    "print(data.head())"
   ]
  },
  {
   "cell_type": "code",
   "execution_count": 48,
   "id": "0de71612",
   "metadata": {},
   "outputs": [],
   "source": [
    "data.to_excel('highest_ratings.xlsx', index=False)"
   ]
  },
  {
   "cell_type": "code",
   "execution_count": null,
   "id": "e7849418",
   "metadata": {},
   "outputs": [],
   "source": []
  }
 ],
 "metadata": {
  "kernelspec": {
   "display_name": "Python 3 (ipykernel)",
   "language": "python",
   "name": "python3"
  },
  "language_info": {
   "codemirror_mode": {
    "name": "ipython",
    "version": 3
   },
   "file_extension": ".py",
   "mimetype": "text/x-python",
   "name": "python",
   "nbconvert_exporter": "python",
   "pygments_lexer": "ipython3",
   "version": "3.9.13"
  }
 },
 "nbformat": 4,
 "nbformat_minor": 5
}
